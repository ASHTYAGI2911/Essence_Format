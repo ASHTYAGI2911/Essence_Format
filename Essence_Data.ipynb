{
 "cells": [
  {
   "cell_type": "code",
   "execution_count": 1,
   "metadata": {},
   "outputs": [],
   "source": [
    "# Importing all the required libraries \n",
    "import pandas as pd\n",
    "import numpy as np\n",
    "import pyreadstat\n",
    "import re"
   ]
  },
  {
   "cell_type": "code",
   "execution_count": 2,
   "metadata": {},
   "outputs": [],
   "source": [
    "# read all the data that have max range\n",
    "pd.set_option('display.max_colwidth', -1)\n",
    "# IPpath = \"r'C:\\Users\\Ashish.Tyagi\\Desktop\\Projects\\Essence\\423821_ford\\19021238_Merged_Data.sav'\"\n",
    "# OPpath = \"r'C:\\Users\\Ashish.Tyagi\\Desktop\\Projects\\Essence\\423821_ford\\Ford_stack'\""
   ]
  },
  {
   "cell_type": "code",
   "execution_count": 3,
   "metadata": {},
   "outputs": [],
   "source": [
    "# data = pd.read_excel(\"C:/Users/Ashish.Tyagi/Desktop/Projects/Essence/1907970.xlsx\")\n",
    "# data_record_stack.to_excel(\"C:/Users/Ashish.Tyagi/Desktop/Projects/Essence/stack1.xlsx\")\n",
    "# df, meta = pyreadstat.read_sav(\"C:/Users/Ashish.Tyagi/Desktop/Projects/Essence/SPSS/1908179.sav\")"
   ]
  },
  {
   "cell_type": "code",
   "execution_count": 4,
   "metadata": {},
   "outputs": [],
   "source": [
    "# load all SPSS data in df dataframe and all the related info in meta \n",
    "df_1, meta_1 = pyreadstat.read_sav(r\"C:\\Users\\Ashish.Tyagi\\Desktop\\Projects\\Essence\\423821_ford\\19021238_Merged_Data.sav\", apply_value_formats=True, formats_as_category=True)"
   ]
  },
  {
   "cell_type": "code",
   "execution_count": 5,
   "metadata": {},
   "outputs": [
    {
     "data": {
      "text/html": [
       "<div>\n",
       "<style scoped>\n",
       "    .dataframe tbody tr th:only-of-type {\n",
       "        vertical-align: middle;\n",
       "    }\n",
       "\n",
       "    .dataframe tbody tr th {\n",
       "        vertical-align: top;\n",
       "    }\n",
       "\n",
       "    .dataframe thead th {\n",
       "        text-align: right;\n",
       "    }\n",
       "</style>\n",
       "<table border=\"1\" class=\"dataframe\">\n",
       "  <thead>\n",
       "    <tr style=\"text-align: right;\">\n",
       "      <th></th>\n",
       "      <th>record</th>\n",
       "      <th>uuid</th>\n",
       "      <th>status</th>\n",
       "      <th>Country</th>\n",
       "      <th>qtimeMin</th>\n",
       "      <th>rnid</th>\n",
       "      <th>Type</th>\n",
       "      <th>Device</th>\n",
       "      <th>vStart_Date</th>\n",
       "      <th>qSHR</th>\n",
       "      <th>...</th>\n",
       "      <th>DeviceType_mobile_phone</th>\n",
       "      <th>DeviceType_personal_computer</th>\n",
       "      <th>DeviceType_set_top_box</th>\n",
       "      <th>DeviceType_smart_tv</th>\n",
       "      <th>DeviceType_smartphone</th>\n",
       "      <th>DeviceType_tablet</th>\n",
       "      <th>DeviceType_tv</th>\n",
       "      <th>DeviceType_unknown</th>\n",
       "      <th>Channel_inapp</th>\n",
       "      <th>Channel_web</th>\n",
       "    </tr>\n",
       "  </thead>\n",
       "  <tbody>\n",
       "    <tr>\n",
       "      <th>0</th>\n",
       "      <td>8.0</td>\n",
       "      <td>muf2m1b1ud7v8yvp</td>\n",
       "      <td>Qualified</td>\n",
       "      <td>USA</td>\n",
       "      <td>4.05</td>\n",
       "      <td>EPO79JYMDG4BRNN4P2</td>\n",
       "      <td>Exposed</td>\n",
       "      <td>NaN</td>\n",
       "      <td>2019/03/07 16:52:00</td>\n",
       "      <td>Only I use it</td>\n",
       "      <td>...</td>\n",
       "      <td>0.0</td>\n",
       "      <td>0.0</td>\n",
       "      <td>0.0</td>\n",
       "      <td>0.0</td>\n",
       "      <td>0.0</td>\n",
       "      <td>0.0</td>\n",
       "      <td>0.0</td>\n",
       "      <td>0.0</td>\n",
       "      <td>0.0</td>\n",
       "      <td>1.0</td>\n",
       "    </tr>\n",
       "    <tr>\n",
       "      <th>1</th>\n",
       "      <td>13.0</td>\n",
       "      <td>7dd6kx88c2gmvnu9</td>\n",
       "      <td>Qualified</td>\n",
       "      <td>USA</td>\n",
       "      <td>7.31</td>\n",
       "      <td>EPO79PCWQ2BLYX34P7</td>\n",
       "      <td>Exposed</td>\n",
       "      <td>NaN</td>\n",
       "      <td>2019/03/07 17:44:00</td>\n",
       "      <td>Only I use it</td>\n",
       "      <td>...</td>\n",
       "      <td>0.0</td>\n",
       "      <td>0.0</td>\n",
       "      <td>0.0</td>\n",
       "      <td>0.0</td>\n",
       "      <td>0.0</td>\n",
       "      <td>0.0</td>\n",
       "      <td>0.0</td>\n",
       "      <td>0.0</td>\n",
       "      <td>0.0</td>\n",
       "      <td>1.0</td>\n",
       "    </tr>\n",
       "    <tr>\n",
       "      <th>2</th>\n",
       "      <td>15.0</td>\n",
       "      <td>tqmb29bbe28wxn8w</td>\n",
       "      <td>Qualified</td>\n",
       "      <td>USA</td>\n",
       "      <td>13.01</td>\n",
       "      <td>EPO79VYK2R9GH5M4P2</td>\n",
       "      <td>Exposed</td>\n",
       "      <td>NaN</td>\n",
       "      <td>2019/03/07 19:11:00</td>\n",
       "      <td>I mostly use it, but sometimes share it</td>\n",
       "      <td>...</td>\n",
       "      <td>0.0</td>\n",
       "      <td>0.0</td>\n",
       "      <td>0.0</td>\n",
       "      <td>0.0</td>\n",
       "      <td>0.0</td>\n",
       "      <td>0.0</td>\n",
       "      <td>0.0</td>\n",
       "      <td>0.0</td>\n",
       "      <td>0.0</td>\n",
       "      <td>2.0</td>\n",
       "    </tr>\n",
       "    <tr>\n",
       "      <th>3</th>\n",
       "      <td>20.0</td>\n",
       "      <td>6nyp9nnmg684bm4h</td>\n",
       "      <td>Qualified</td>\n",
       "      <td>USA</td>\n",
       "      <td>5.00</td>\n",
       "      <td>EPO7CHBDGSVDBCC4P1</td>\n",
       "      <td>Exposed</td>\n",
       "      <td>NaN</td>\n",
       "      <td>2019/03/08 08:12:00</td>\n",
       "      <td>Only I use it</td>\n",
       "      <td>...</td>\n",
       "      <td>0.0</td>\n",
       "      <td>0.0</td>\n",
       "      <td>0.0</td>\n",
       "      <td>0.0</td>\n",
       "      <td>0.0</td>\n",
       "      <td>0.0</td>\n",
       "      <td>0.0</td>\n",
       "      <td>0.0</td>\n",
       "      <td>0.0</td>\n",
       "      <td>4.0</td>\n",
       "    </tr>\n",
       "    <tr>\n",
       "      <th>4</th>\n",
       "      <td>28.0</td>\n",
       "      <td>b006dk71x43eh75x</td>\n",
       "      <td>Qualified</td>\n",
       "      <td>USA</td>\n",
       "      <td>9.78</td>\n",
       "      <td>EPO7CS4XK4HNSM24P8</td>\n",
       "      <td>Exposed</td>\n",
       "      <td>NaN</td>\n",
       "      <td>2019/03/08 09:35:00</td>\n",
       "      <td>Only I use it</td>\n",
       "      <td>...</td>\n",
       "      <td>0.0</td>\n",
       "      <td>0.0</td>\n",
       "      <td>0.0</td>\n",
       "      <td>0.0</td>\n",
       "      <td>0.0</td>\n",
       "      <td>0.0</td>\n",
       "      <td>0.0</td>\n",
       "      <td>0.0</td>\n",
       "      <td>0.0</td>\n",
       "      <td>3.0</td>\n",
       "    </tr>\n",
       "  </tbody>\n",
       "</table>\n",
       "<p>5 rows × 695 columns</p>\n",
       "</div>"
      ],
      "text/plain": [
       "   record              uuid     status Country  qtimeMin                rnid  \\\n",
       "0  8.0     muf2m1b1ud7v8yvp  Qualified  USA     4.05      EPO79JYMDG4BRNN4P2   \n",
       "1  13.0    7dd6kx88c2gmvnu9  Qualified  USA     7.31      EPO79PCWQ2BLYX34P7   \n",
       "2  15.0    tqmb29bbe28wxn8w  Qualified  USA     13.01     EPO79VYK2R9GH5M4P2   \n",
       "3  20.0    6nyp9nnmg684bm4h  Qualified  USA     5.00      EPO7CHBDGSVDBCC4P1   \n",
       "4  28.0    b006dk71x43eh75x  Qualified  USA     9.78      EPO7CS4XK4HNSM24P8   \n",
       "\n",
       "      Type Device          vStart_Date  \\\n",
       "0  Exposed NaN     2019/03/07 16:52:00   \n",
       "1  Exposed NaN     2019/03/07 17:44:00   \n",
       "2  Exposed NaN     2019/03/07 19:11:00   \n",
       "3  Exposed NaN     2019/03/08 08:12:00   \n",
       "4  Exposed NaN     2019/03/08 09:35:00   \n",
       "\n",
       "                                      qSHR  ...  DeviceType_mobile_phone  \\\n",
       "0  Only I use it                            ...  0.0                       \n",
       "1  Only I use it                            ...  0.0                       \n",
       "2  I mostly use it, but sometimes share it  ...  0.0                       \n",
       "3  Only I use it                            ...  0.0                       \n",
       "4  Only I use it                            ...  0.0                       \n",
       "\n",
       "  DeviceType_personal_computer DeviceType_set_top_box DeviceType_smart_tv  \\\n",
       "0  0.0                          0.0                    0.0                  \n",
       "1  0.0                          0.0                    0.0                  \n",
       "2  0.0                          0.0                    0.0                  \n",
       "3  0.0                          0.0                    0.0                  \n",
       "4  0.0                          0.0                    0.0                  \n",
       "\n",
       "  DeviceType_smartphone DeviceType_tablet DeviceType_tv DeviceType_unknown  \\\n",
       "0  0.0                   0.0               0.0           0.0                 \n",
       "1  0.0                   0.0               0.0           0.0                 \n",
       "2  0.0                   0.0               0.0           0.0                 \n",
       "3  0.0                   0.0               0.0           0.0                 \n",
       "4  0.0                   0.0               0.0           0.0                 \n",
       "\n",
       "  Channel_inapp Channel_web  \n",
       "0  0.0           1.0         \n",
       "1  0.0           1.0         \n",
       "2  0.0           2.0         \n",
       "3  0.0           4.0         \n",
       "4  0.0           3.0         \n",
       "\n",
       "[5 rows x 695 columns]"
      ]
     },
     "execution_count": 5,
     "metadata": {},
     "output_type": "execute_result"
    }
   ],
   "source": [
    "df_1.head()"
   ]
  },
  {
   "cell_type": "code",
   "execution_count": 6,
   "metadata": {},
   "outputs": [
    {
     "data": {
      "text/plain": [
       "Index(['record', 'uuid', 'status', 'Country', 'qtimeMin', 'rnid', 'Type',\n",
       "       'Device', 'vStart_Date', 'qSHR',\n",
       "       ...\n",
       "       'DeviceType_mobile_phone', 'DeviceType_personal_computer',\n",
       "       'DeviceType_set_top_box', 'DeviceType_smart_tv',\n",
       "       'DeviceType_smartphone', 'DeviceType_tablet', 'DeviceType_tv',\n",
       "       'DeviceType_unknown', 'Channel_inapp', 'Channel_web'],\n",
       "      dtype='object', length=695)"
      ]
     },
     "execution_count": 6,
     "metadata": {},
     "output_type": "execute_result"
    }
   ],
   "source": [
    "df_1.columns"
   ]
  },
  {
   "cell_type": "code",
   "execution_count": 7,
   "metadata": {},
   "outputs": [],
   "source": [
    "# df_1.set_index(\"record\", inplace=True)"
   ]
  },
  {
   "cell_type": "code",
   "execution_count": 8,
   "metadata": {},
   "outputs": [
    {
     "data": {
      "text/plain": [
       "(4510, 695)"
      ]
     },
     "execution_count": 8,
     "metadata": {},
     "output_type": "execute_result"
    }
   ],
   "source": [
    "df_1.shape"
   ]
  },
  {
   "cell_type": "code",
   "execution_count": 9,
   "metadata": {},
   "outputs": [],
   "source": [
    "# print(df.head())\n",
    "# print(meta_1.column_labels)\n",
    "# print(meta_1.column_names)\n",
    "# print(meta_1.column_names_to_labels)\n",
    "# print(meta_1.number_rows)\n",
    "# print(meta_1.number_columns)\n",
    "# print(meta_1.file_label)\n",
    "# print(meta_1.file_encoding)\n",
    "# meta_1.file_format\n",
    "# meta_1.missing_ranges\n",
    "# meta_1.missing_user_values\n",
    "# meta_1.notes\n",
    "# meta_1.original_variable_types\n",
    "# meta_1.table_name\n",
    "# print(meta_1.variable_alignment)\n",
    "# meta_1.variable_to_label   # # most importent \n",
    "# print(meta_1.variable_value_labels)   # # most importent \n",
    "\n",
    "# meta_1.value_labels"
   ]
  },
  {
   "cell_type": "code",
   "execution_count": 10,
   "metadata": {},
   "outputs": [
    {
     "data": {
      "text/html": [
       "<div>\n",
       "<style scoped>\n",
       "    .dataframe tbody tr th:only-of-type {\n",
       "        vertical-align: middle;\n",
       "    }\n",
       "\n",
       "    .dataframe tbody tr th {\n",
       "        vertical-align: top;\n",
       "    }\n",
       "\n",
       "    .dataframe thead th {\n",
       "        text-align: right;\n",
       "    }\n",
       "</style>\n",
       "<table border=\"1\" class=\"dataframe\">\n",
       "  <thead>\n",
       "    <tr style=\"text-align: right;\">\n",
       "      <th></th>\n",
       "      <th>Variable</th>\n",
       "      <th>question_type</th>\n",
       "    </tr>\n",
       "  </thead>\n",
       "  <tbody>\n",
       "    <tr>\n",
       "      <th>0</th>\n",
       "      <td>Country</td>\n",
       "      <td>NaN</td>\n",
       "    </tr>\n",
       "    <tr>\n",
       "      <th>1</th>\n",
       "      <td>DMA</td>\n",
       "      <td>NaN</td>\n",
       "    </tr>\n",
       "    <tr>\n",
       "      <th>2</th>\n",
       "      <td>Device</td>\n",
       "      <td>NaN</td>\n",
       "    </tr>\n",
       "    <tr>\n",
       "      <th>3</th>\n",
       "      <td>QMAKNoner99</td>\n",
       "      <td>Multi-Select</td>\n",
       "    </tr>\n",
       "    <tr>\n",
       "      <th>4</th>\n",
       "      <td>STATE</td>\n",
       "      <td>NaN</td>\n",
       "    </tr>\n",
       "  </tbody>\n",
       "</table>\n",
       "</div>"
      ],
      "text/plain": [
       "      Variable question_type\n",
       "0  Country      NaN         \n",
       "1  DMA          NaN         \n",
       "2  Device       NaN         \n",
       "3  QMAKNoner99  Multi-Select\n",
       "4  STATE        NaN         "
      ]
     },
     "execution_count": 10,
     "metadata": {},
     "output_type": "execute_result"
    }
   ],
   "source": [
    "# Create a dataframe that have all the variale value labels ------ this is to work on question_type column\n",
    "VVL = pd.DataFrame.from_dict(meta_1.variable_value_labels, orient='index')\n",
    "VVL.loc[(~ VVL[0.0].isin([\"Not selected\"])), 0.0] = np.nan\n",
    "VVL.loc[(VVL[0.0].isin([\"Not selected\"])), 0.0] = \"Multi-Select\"\n",
    "VVL.reset_index(inplace=True)\n",
    "VVL.rename(columns = {\"index\": \"Variable\", 0.0: \"question_type\"}, inplace=True)\n",
    "VVL = VVL[[\"Variable\", \"question_type\"]]\n",
    "# ############# VVL.dropna(axis=0, inplace=True, how='any')\n",
    "VVL.to_excel(r\"C:\\Users\\Ashish.Tyagi\\Desktop\\Projects\\Essence\\423821_ford\\VVL.xlsx\")\n",
    "VVL.head()"
   ]
  },
  {
   "cell_type": "code",
   "execution_count": 11,
   "metadata": {},
   "outputs": [],
   "source": [
    "# Stack the dataframe df and save it into df_stack dataframe\n",
    "df_stack = df_1.stack()"
   ]
  },
  {
   "cell_type": "code",
   "execution_count": 12,
   "metadata": {},
   "outputs": [
    {
     "name": "stdout",
     "output_type": "stream",
     "text": [
      "(0, 'uuid')\n"
     ]
    }
   ],
   "source": [
    "print(df_stack.index[1])"
   ]
  },
  {
   "cell_type": "code",
   "execution_count": 13,
   "metadata": {},
   "outputs": [],
   "source": [
    "# meta_1.column_names"
   ]
  },
  {
   "cell_type": "code",
   "execution_count": 14,
   "metadata": {},
   "outputs": [],
   "source": [
    "# print(df_stack)"
   ]
  },
  {
   "cell_type": "code",
   "execution_count": 15,
   "metadata": {},
   "outputs": [],
   "source": [
    "# Save it as dataframe\n",
    "df_stack_df = pd.DataFrame(df_stack)"
   ]
  },
  {
   "cell_type": "code",
   "execution_count": 16,
   "metadata": {},
   "outputs": [],
   "source": [
    "# reset the index of dataframe\n",
    "df_stack_df = df_stack_df.reset_index()"
   ]
  },
  {
   "cell_type": "code",
   "execution_count": 17,
   "metadata": {},
   "outputs": [],
   "source": [
    "################ df_stack_df[\"question_type\"] = \"Single Select\""
   ]
  },
  {
   "cell_type": "code",
   "execution_count": 18,
   "metadata": {},
   "outputs": [
    {
     "data": {
      "text/plain": [
       "Index(['Record_ID', 'Variable', 'Data'], dtype='object')"
      ]
     },
     "execution_count": 18,
     "metadata": {},
     "output_type": "execute_result"
    }
   ],
   "source": [
    "# Change the column values\n",
    "cols = [\"Record_ID\", \"Variable\", \"Data\"]\n",
    "df_stack_df.columns = cols\n",
    "df_stack_df.columns"
   ]
  },
  {
   "cell_type": "code",
   "execution_count": 19,
   "metadata": {},
   "outputs": [],
   "source": [
    "# \"Record_ID\" start from 0, adding 1 to start from 1\n",
    "df_stack_df[\"Record_ID\"] = df_stack_df[\"Record_ID\"] + 1"
   ]
  },
  {
   "cell_type": "code",
   "execution_count": 20,
   "metadata": {},
   "outputs": [
    {
     "data": {
      "text/plain": [
       "695"
      ]
     },
     "execution_count": 20,
     "metadata": {},
     "output_type": "execute_result"
    }
   ],
   "source": [
    "len(meta_1.column_names)\n",
    "len(meta_1.column_labels)"
   ]
  },
  {
   "cell_type": "code",
   "execution_count": 21,
   "metadata": {},
   "outputs": [],
   "source": [
    "# Create as dataframe \"meta_df\" in it we have variables name and column labels\n",
    "meta_df = pd.DataFrame({\"Variable\":meta_1.column_names, \"column_labels\":meta_1.column_labels})"
   ]
  },
  {
   "cell_type": "code",
   "execution_count": 22,
   "metadata": {},
   "outputs": [
    {
     "data": {
      "text/html": [
       "<div>\n",
       "<style scoped>\n",
       "    .dataframe tbody tr th:only-of-type {\n",
       "        vertical-align: middle;\n",
       "    }\n",
       "\n",
       "    .dataframe tbody tr th {\n",
       "        vertical-align: top;\n",
       "    }\n",
       "\n",
       "    .dataframe thead th {\n",
       "        text-align: right;\n",
       "    }\n",
       "</style>\n",
       "<table border=\"1\" class=\"dataframe\">\n",
       "  <thead>\n",
       "    <tr style=\"text-align: right;\">\n",
       "      <th></th>\n",
       "      <th>Variable</th>\n",
       "      <th>column_labels</th>\n",
       "    </tr>\n",
       "  </thead>\n",
       "  <tbody>\n",
       "    <tr>\n",
       "      <th>0</th>\n",
       "      <td>record</td>\n",
       "      <td>record: Record number</td>\n",
       "    </tr>\n",
       "    <tr>\n",
       "      <th>1</th>\n",
       "      <td>uuid</td>\n",
       "      <td>uuid: Respondent identifier</td>\n",
       "    </tr>\n",
       "    <tr>\n",
       "      <th>2</th>\n",
       "      <td>status</td>\n",
       "      <td>status: Participant status</td>\n",
       "    </tr>\n",
       "    <tr>\n",
       "      <th>3</th>\n",
       "      <td>Country</td>\n",
       "      <td>Country: Country from URL</td>\n",
       "    </tr>\n",
       "    <tr>\n",
       "      <th>4</th>\n",
       "      <td>qtimeMin</td>\n",
       "      <td>qtimeMin: Total Interview Time in Minutes</td>\n",
       "    </tr>\n",
       "  </tbody>\n",
       "</table>\n",
       "</div>"
      ],
      "text/plain": [
       "   Variable                              column_labels\n",
       "0  record    record: Record number                    \n",
       "1  uuid      uuid: Respondent identifier              \n",
       "2  status    status: Participant status               \n",
       "3  Country   Country: Country from URL                \n",
       "4  qtimeMin  qtimeMin: Total Interview Time in Minutes"
      ]
     },
     "execution_count": 22,
     "metadata": {},
     "output_type": "execute_result"
    }
   ],
   "source": [
    "meta_df.head()"
   ]
  },
  {
   "cell_type": "code",
   "execution_count": 23,
   "metadata": {},
   "outputs": [],
   "source": [
    "# merge dataframe into main df on the bases of 'Variable'\n",
    "df_stack_df = df_stack_df.merge(meta_df, on='Variable')"
   ]
  },
  {
   "cell_type": "code",
   "execution_count": 24,
   "metadata": {},
   "outputs": [
    {
     "data": {
      "text/html": [
       "<div>\n",
       "<style scoped>\n",
       "    .dataframe tbody tr th:only-of-type {\n",
       "        vertical-align: middle;\n",
       "    }\n",
       "\n",
       "    .dataframe tbody tr th {\n",
       "        vertical-align: top;\n",
       "    }\n",
       "\n",
       "    .dataframe thead th {\n",
       "        text-align: right;\n",
       "    }\n",
       "</style>\n",
       "<table border=\"1\" class=\"dataframe\">\n",
       "  <thead>\n",
       "    <tr style=\"text-align: right;\">\n",
       "      <th></th>\n",
       "      <th>Record_ID</th>\n",
       "      <th>Variable</th>\n",
       "      <th>Data</th>\n",
       "      <th>column_labels</th>\n",
       "    </tr>\n",
       "  </thead>\n",
       "  <tbody>\n",
       "    <tr>\n",
       "      <th>0</th>\n",
       "      <td>1</td>\n",
       "      <td>record</td>\n",
       "      <td>8</td>\n",
       "      <td>record: Record number</td>\n",
       "    </tr>\n",
       "    <tr>\n",
       "      <th>1</th>\n",
       "      <td>2</td>\n",
       "      <td>record</td>\n",
       "      <td>13</td>\n",
       "      <td>record: Record number</td>\n",
       "    </tr>\n",
       "    <tr>\n",
       "      <th>2</th>\n",
       "      <td>3</td>\n",
       "      <td>record</td>\n",
       "      <td>15</td>\n",
       "      <td>record: Record number</td>\n",
       "    </tr>\n",
       "    <tr>\n",
       "      <th>3</th>\n",
       "      <td>4</td>\n",
       "      <td>record</td>\n",
       "      <td>20</td>\n",
       "      <td>record: Record number</td>\n",
       "    </tr>\n",
       "    <tr>\n",
       "      <th>4</th>\n",
       "      <td>5</td>\n",
       "      <td>record</td>\n",
       "      <td>28</td>\n",
       "      <td>record: Record number</td>\n",
       "    </tr>\n",
       "  </tbody>\n",
       "</table>\n",
       "</div>"
      ],
      "text/plain": [
       "   Record_ID Variable Data          column_labels\n",
       "0  1          record   8    record: Record number\n",
       "1  2          record   13   record: Record number\n",
       "2  3          record   15   record: Record number\n",
       "3  4          record   20   record: Record number\n",
       "4  5          record   28   record: Record number"
      ]
     },
     "execution_count": 24,
     "metadata": {},
     "output_type": "execute_result"
    }
   ],
   "source": [
    "df_stack_df.head()"
   ]
  },
  {
   "cell_type": "code",
   "execution_count": 25,
   "metadata": {},
   "outputs": [],
   "source": [
    "df_stack_df = df_stack_df.merge(VVL, on='Variable', how='left')"
   ]
  },
  {
   "cell_type": "code",
   "execution_count": 26,
   "metadata": {},
   "outputs": [
    {
     "data": {
      "text/html": [
       "<div>\n",
       "<style scoped>\n",
       "    .dataframe tbody tr th:only-of-type {\n",
       "        vertical-align: middle;\n",
       "    }\n",
       "\n",
       "    .dataframe tbody tr th {\n",
       "        vertical-align: top;\n",
       "    }\n",
       "\n",
       "    .dataframe thead th {\n",
       "        text-align: right;\n",
       "    }\n",
       "</style>\n",
       "<table border=\"1\" class=\"dataframe\">\n",
       "  <thead>\n",
       "    <tr style=\"text-align: right;\">\n",
       "      <th></th>\n",
       "      <th>Record_ID</th>\n",
       "      <th>Variable</th>\n",
       "      <th>Data</th>\n",
       "      <th>column_labels</th>\n",
       "      <th>question_type</th>\n",
       "    </tr>\n",
       "  </thead>\n",
       "  <tbody>\n",
       "    <tr>\n",
       "      <th>0</th>\n",
       "      <td>1</td>\n",
       "      <td>record</td>\n",
       "      <td>8</td>\n",
       "      <td>record: Record number</td>\n",
       "      <td>NaN</td>\n",
       "    </tr>\n",
       "    <tr>\n",
       "      <th>1</th>\n",
       "      <td>2</td>\n",
       "      <td>record</td>\n",
       "      <td>13</td>\n",
       "      <td>record: Record number</td>\n",
       "      <td>NaN</td>\n",
       "    </tr>\n",
       "    <tr>\n",
       "      <th>2</th>\n",
       "      <td>3</td>\n",
       "      <td>record</td>\n",
       "      <td>15</td>\n",
       "      <td>record: Record number</td>\n",
       "      <td>NaN</td>\n",
       "    </tr>\n",
       "    <tr>\n",
       "      <th>3</th>\n",
       "      <td>4</td>\n",
       "      <td>record</td>\n",
       "      <td>20</td>\n",
       "      <td>record: Record number</td>\n",
       "      <td>NaN</td>\n",
       "    </tr>\n",
       "    <tr>\n",
       "      <th>4</th>\n",
       "      <td>5</td>\n",
       "      <td>record</td>\n",
       "      <td>28</td>\n",
       "      <td>record: Record number</td>\n",
       "      <td>NaN</td>\n",
       "    </tr>\n",
       "  </tbody>\n",
       "</table>\n",
       "</div>"
      ],
      "text/plain": [
       "   Record_ID Variable Data          column_labels question_type\n",
       "0  1          record   8    record: Record number  NaN         \n",
       "1  2          record   13   record: Record number  NaN         \n",
       "2  3          record   15   record: Record number  NaN         \n",
       "3  4          record   20   record: Record number  NaN         \n",
       "4  5          record   28   record: Record number  NaN         "
      ]
     },
     "execution_count": 26,
     "metadata": {},
     "output_type": "execute_result"
    }
   ],
   "source": [
    "df_stack_df.head()"
   ]
  },
  {
   "cell_type": "code",
   "execution_count": 27,
   "metadata": {},
   "outputs": [],
   "source": [
    "# print(df_stack_df2[df_stack_df2[\"question_type\"] == 'Multi-Select'])\n",
    "# df_stack_df[\"question_type\"].unique()\n",
    "# df_stack_df2.shape\n",
    "df_stack_df['question_type'].fillna(value='Single Select', inplace=True)"
   ]
  },
  {
   "cell_type": "code",
   "execution_count": 28,
   "metadata": {},
   "outputs": [
    {
     "data": {
      "text/plain": [
       "' Mastercard '"
      ]
     },
     "execution_count": 28,
     "metadata": {},
     "output_type": "execute_result"
    }
   ],
   "source": [
    "dummy = \"dQualifiedBrandsr1: Mastercard - To punch Brands selected 2-7 in SC1\"\n",
    "# dummy.split()[1]\n",
    "re.split(r\":|-\",dummy)[1]              # output will be ------> 'Mastercard'"
   ]
  },
  {
   "cell_type": "code",
   "execution_count": 29,
   "metadata": {},
   "outputs": [
    {
     "data": {
      "text/html": [
       "<div>\n",
       "<style scoped>\n",
       "    .dataframe tbody tr th:only-of-type {\n",
       "        vertical-align: middle;\n",
       "    }\n",
       "\n",
       "    .dataframe tbody tr th {\n",
       "        vertical-align: top;\n",
       "    }\n",
       "\n",
       "    .dataframe thead th {\n",
       "        text-align: right;\n",
       "    }\n",
       "</style>\n",
       "<table border=\"1\" class=\"dataframe\">\n",
       "  <thead>\n",
       "    <tr style=\"text-align: right;\">\n",
       "      <th></th>\n",
       "      <th>Record_ID</th>\n",
       "      <th>Variable</th>\n",
       "      <th>Data</th>\n",
       "      <th>column_labels</th>\n",
       "      <th>question_type</th>\n",
       "    </tr>\n",
       "  </thead>\n",
       "  <tbody>\n",
       "    <tr>\n",
       "      <th>0</th>\n",
       "      <td>1</td>\n",
       "      <td>record</td>\n",
       "      <td>8</td>\n",
       "      <td>record: Record number</td>\n",
       "      <td>Single Select</td>\n",
       "    </tr>\n",
       "    <tr>\n",
       "      <th>1</th>\n",
       "      <td>2</td>\n",
       "      <td>record</td>\n",
       "      <td>13</td>\n",
       "      <td>record: Record number</td>\n",
       "      <td>Single Select</td>\n",
       "    </tr>\n",
       "    <tr>\n",
       "      <th>2</th>\n",
       "      <td>3</td>\n",
       "      <td>record</td>\n",
       "      <td>15</td>\n",
       "      <td>record: Record number</td>\n",
       "      <td>Single Select</td>\n",
       "    </tr>\n",
       "    <tr>\n",
       "      <th>3</th>\n",
       "      <td>4</td>\n",
       "      <td>record</td>\n",
       "      <td>20</td>\n",
       "      <td>record: Record number</td>\n",
       "      <td>Single Select</td>\n",
       "    </tr>\n",
       "    <tr>\n",
       "      <th>4</th>\n",
       "      <td>5</td>\n",
       "      <td>record</td>\n",
       "      <td>28</td>\n",
       "      <td>record: Record number</td>\n",
       "      <td>Single Select</td>\n",
       "    </tr>\n",
       "  </tbody>\n",
       "</table>\n",
       "</div>"
      ],
      "text/plain": [
       "   Record_ID Variable Data          column_labels  question_type\n",
       "0  1          record   8    record: Record number  Single Select\n",
       "1  2          record   13   record: Record number  Single Select\n",
       "2  3          record   15   record: Record number  Single Select\n",
       "3  4          record   20   record: Record number  Single Select\n",
       "4  5          record   28   record: Record number  Single Select"
      ]
     },
     "execution_count": 29,
     "metadata": {},
     "output_type": "execute_result"
    }
   ],
   "source": [
    "df_stack_df.head()"
   ]
  },
  {
   "cell_type": "code",
   "execution_count": 30,
   "metadata": {},
   "outputs": [],
   "source": [
    "# Change the type of column\n",
    "df_stack_df[\"Data\"] = df_stack_df[\"Data\"].astype(str)"
   ]
  },
  {
   "cell_type": "code",
   "execution_count": 31,
   "metadata": {},
   "outputs": [],
   "source": [
    "# get the column label if respondent selected a brand instead of 'Selected'\n",
    "dum = df_stack_df.loc[(df_stack_df[\"Data\"].isin([\"Selected\", \"selected\"])), \"column_labels\"]\n",
    "dum2 = dum.str.split(r\":|-\")\n",
    "dum3 = dum2.str.get(1)\n",
    "dum3 = dum3.str.strip()"
   ]
  },
  {
   "cell_type": "code",
   "execution_count": 32,
   "metadata": {},
   "outputs": [],
   "source": [
    "# add the column labels in the main data frame\n",
    "df_stack_df.loc[(df_stack_df[\"Data\"].isin([\"Selected\", \"selected\"])), \"Data\"] = dum3"
   ]
  },
  {
   "cell_type": "code",
   "execution_count": 33,
   "metadata": {},
   "outputs": [],
   "source": [
    "# Remove all the cells that respondent \"Not selected\" in multiselect questions\n",
    "df_stack_df.drop(df_stack_df[df_stack_df[\"Data\"] == \"Not selected\"].index, inplace=True)"
   ]
  },
  {
   "cell_type": "code",
   "execution_count": 34,
   "metadata": {},
   "outputs": [
    {
     "data": {
      "text/html": [
       "<div>\n",
       "<style scoped>\n",
       "    .dataframe tbody tr th:only-of-type {\n",
       "        vertical-align: middle;\n",
       "    }\n",
       "\n",
       "    .dataframe tbody tr th {\n",
       "        vertical-align: top;\n",
       "    }\n",
       "\n",
       "    .dataframe thead th {\n",
       "        text-align: right;\n",
       "    }\n",
       "</style>\n",
       "<table border=\"1\" class=\"dataframe\">\n",
       "  <thead>\n",
       "    <tr style=\"text-align: right;\">\n",
       "      <th></th>\n",
       "      <th>Record_ID</th>\n",
       "      <th>Variable</th>\n",
       "      <th>Data</th>\n",
       "      <th>column_labels</th>\n",
       "      <th>question_type</th>\n",
       "    </tr>\n",
       "  </thead>\n",
       "  <tbody>\n",
       "    <tr>\n",
       "      <th>0</th>\n",
       "      <td>1</td>\n",
       "      <td>record</td>\n",
       "      <td>8.0</td>\n",
       "      <td>record: Record number</td>\n",
       "      <td>Single Select</td>\n",
       "    </tr>\n",
       "    <tr>\n",
       "      <th>1</th>\n",
       "      <td>2</td>\n",
       "      <td>record</td>\n",
       "      <td>13.0</td>\n",
       "      <td>record: Record number</td>\n",
       "      <td>Single Select</td>\n",
       "    </tr>\n",
       "    <tr>\n",
       "      <th>2</th>\n",
       "      <td>3</td>\n",
       "      <td>record</td>\n",
       "      <td>15.0</td>\n",
       "      <td>record: Record number</td>\n",
       "      <td>Single Select</td>\n",
       "    </tr>\n",
       "    <tr>\n",
       "      <th>3</th>\n",
       "      <td>4</td>\n",
       "      <td>record</td>\n",
       "      <td>20.0</td>\n",
       "      <td>record: Record number</td>\n",
       "      <td>Single Select</td>\n",
       "    </tr>\n",
       "    <tr>\n",
       "      <th>4</th>\n",
       "      <td>5</td>\n",
       "      <td>record</td>\n",
       "      <td>28.0</td>\n",
       "      <td>record: Record number</td>\n",
       "      <td>Single Select</td>\n",
       "    </tr>\n",
       "  </tbody>\n",
       "</table>\n",
       "</div>"
      ],
      "text/plain": [
       "   Record_ID Variable  Data          column_labels  question_type\n",
       "0  1          record   8.0   record: Record number  Single Select\n",
       "1  2          record   13.0  record: Record number  Single Select\n",
       "2  3          record   15.0  record: Record number  Single Select\n",
       "3  4          record   20.0  record: Record number  Single Select\n",
       "4  5          record   28.0  record: Record number  Single Select"
      ]
     },
     "execution_count": 34,
     "metadata": {},
     "output_type": "execute_result"
    }
   ],
   "source": [
    "df_stack_df.head()"
   ]
  },
  {
   "cell_type": "code",
   "execution_count": 35,
   "metadata": {},
   "outputs": [],
   "source": [
    "# ceate all the required columns with their default values\n",
    "df_stack_df[\"study_id\"] = \"Essence_#\"\n",
    "df_stack_df[\"study_name\"] = \"Essence\"\n",
    "df_stack_df[\"audience\"] = \"\"\n",
    "df_stack_df[\"placement_id\"] = \"\"\n",
    "df_stack_df[\"question_number\"] = \"\"\n",
    "df_stack_df[\"Desired_Answer\"] = \"\"\n",
    "df_stack_df[\"goal\"] = \"\"\n",
    "df_stack_df[\"user_wieght\"] = \"\""
   ]
  },
  {
   "cell_type": "code",
   "execution_count": 36,
   "metadata": {},
   "outputs": [
    {
     "data": {
      "text/plain": [
       "Index(['Record_ID', 'Variable', 'Data', 'column_labels', 'question_type',\n",
       "       'study_id', 'study_name', 'audience', 'placement_id', 'question_number',\n",
       "       'Desired_Answer', 'goal', 'user_wieght'],\n",
       "      dtype='object')"
      ]
     },
     "execution_count": 36,
     "metadata": {},
     "output_type": "execute_result"
    }
   ],
   "source": [
    "df_stack_df.columns"
   ]
  },
  {
   "cell_type": "code",
   "execution_count": 37,
   "metadata": {},
   "outputs": [
    {
     "data": {
      "text/html": [
       "<div>\n",
       "<style scoped>\n",
       "    .dataframe tbody tr th:only-of-type {\n",
       "        vertical-align: middle;\n",
       "    }\n",
       "\n",
       "    .dataframe tbody tr th {\n",
       "        vertical-align: top;\n",
       "    }\n",
       "\n",
       "    .dataframe thead th {\n",
       "        text-align: right;\n",
       "    }\n",
       "</style>\n",
       "<table border=\"1\" class=\"dataframe\">\n",
       "  <thead>\n",
       "    <tr style=\"text-align: right;\">\n",
       "      <th></th>\n",
       "      <th>Record_ID</th>\n",
       "      <th>Variable</th>\n",
       "      <th>Data</th>\n",
       "      <th>column_labels</th>\n",
       "      <th>question_type</th>\n",
       "      <th>study_id</th>\n",
       "      <th>study_name</th>\n",
       "      <th>audience</th>\n",
       "      <th>placement_id</th>\n",
       "      <th>question_number</th>\n",
       "      <th>Desired_Answer</th>\n",
       "      <th>goal</th>\n",
       "      <th>user_wieght</th>\n",
       "    </tr>\n",
       "  </thead>\n",
       "  <tbody>\n",
       "    <tr>\n",
       "      <th>0</th>\n",
       "      <td>1</td>\n",
       "      <td>record</td>\n",
       "      <td>8.0</td>\n",
       "      <td>record: Record number</td>\n",
       "      <td>Single Select</td>\n",
       "      <td>Essence_#</td>\n",
       "      <td>Essence</td>\n",
       "      <td></td>\n",
       "      <td></td>\n",
       "      <td></td>\n",
       "      <td></td>\n",
       "      <td></td>\n",
       "      <td></td>\n",
       "    </tr>\n",
       "    <tr>\n",
       "      <th>1</th>\n",
       "      <td>2</td>\n",
       "      <td>record</td>\n",
       "      <td>13.0</td>\n",
       "      <td>record: Record number</td>\n",
       "      <td>Single Select</td>\n",
       "      <td>Essence_#</td>\n",
       "      <td>Essence</td>\n",
       "      <td></td>\n",
       "      <td></td>\n",
       "      <td></td>\n",
       "      <td></td>\n",
       "      <td></td>\n",
       "      <td></td>\n",
       "    </tr>\n",
       "    <tr>\n",
       "      <th>2</th>\n",
       "      <td>3</td>\n",
       "      <td>record</td>\n",
       "      <td>15.0</td>\n",
       "      <td>record: Record number</td>\n",
       "      <td>Single Select</td>\n",
       "      <td>Essence_#</td>\n",
       "      <td>Essence</td>\n",
       "      <td></td>\n",
       "      <td></td>\n",
       "      <td></td>\n",
       "      <td></td>\n",
       "      <td></td>\n",
       "      <td></td>\n",
       "    </tr>\n",
       "    <tr>\n",
       "      <th>3</th>\n",
       "      <td>4</td>\n",
       "      <td>record</td>\n",
       "      <td>20.0</td>\n",
       "      <td>record: Record number</td>\n",
       "      <td>Single Select</td>\n",
       "      <td>Essence_#</td>\n",
       "      <td>Essence</td>\n",
       "      <td></td>\n",
       "      <td></td>\n",
       "      <td></td>\n",
       "      <td></td>\n",
       "      <td></td>\n",
       "      <td></td>\n",
       "    </tr>\n",
       "    <tr>\n",
       "      <th>4</th>\n",
       "      <td>5</td>\n",
       "      <td>record</td>\n",
       "      <td>28.0</td>\n",
       "      <td>record: Record number</td>\n",
       "      <td>Single Select</td>\n",
       "      <td>Essence_#</td>\n",
       "      <td>Essence</td>\n",
       "      <td></td>\n",
       "      <td></td>\n",
       "      <td></td>\n",
       "      <td></td>\n",
       "      <td></td>\n",
       "      <td></td>\n",
       "    </tr>\n",
       "  </tbody>\n",
       "</table>\n",
       "</div>"
      ],
      "text/plain": [
       "   Record_ID Variable  Data          column_labels  question_type   study_id  \\\n",
       "0  1          record   8.0   record: Record number  Single Select  Essence_#   \n",
       "1  2          record   13.0  record: Record number  Single Select  Essence_#   \n",
       "2  3          record   15.0  record: Record number  Single Select  Essence_#   \n",
       "3  4          record   20.0  record: Record number  Single Select  Essence_#   \n",
       "4  5          record   28.0  record: Record number  Single Select  Essence_#   \n",
       "\n",
       "  study_name audience placement_id question_number Desired_Answer goal  \\\n",
       "0  Essence                                                               \n",
       "1  Essence                                                               \n",
       "2  Essence                                                               \n",
       "3  Essence                                                               \n",
       "4  Essence                                                               \n",
       "\n",
       "  user_wieght  \n",
       "0              \n",
       "1              \n",
       "2              \n",
       "3              \n",
       "4              "
      ]
     },
     "execution_count": 37,
     "metadata": {},
     "output_type": "execute_result"
    }
   ],
   "source": [
    "df_stack_df.head()"
   ]
  },
  {
   "cell_type": "code",
   "execution_count": 38,
   "metadata": {},
   "outputs": [],
   "source": [
    "# Add country, Date and record id accordign to the respondent\n",
    "l = list(range(1, len(df_stack_df[\"Record_ID\"].unique())+1))\n",
    "dum_df = pd.DataFrame({\"Record_ID\": l})\n",
    "dum_country = df_stack_df.loc[(df_stack_df[\"Variable\"].isin([\"Country\", \"country\"])), [\"Record_ID\",\"Data\"]]\n",
    "\n",
    "######### in many studies below line can give error because of name is different \n",
    "######### vStart_Date or start_date or Start_Date\n",
    "dum_date = df_stack_df.loc[(df_stack_df[\"Variable\"].isin([\"vStart_Date\", \"Start_Date\", \"start_date\", \"Start_date\"])), [\"Record_ID\",\"Data\"]]\n",
    "dum_record = df_stack_df.loc[(df_stack_df[\"Variable\"].isin([\"record\", \"Record\"])), [\"Record_ID\",\"Data\"]]\n",
    "dum_record['Data'] = dum_record['Data'].str.replace(r'\\.0', '')\n",
    "dum_df = dum_df.merge(dum_country, on='Record_ID')\n",
    "dum_df = dum_df.merge(dum_date, on='Record_ID')\n",
    "dum_df = dum_df.merge(dum_record, on='Record_ID')\n",
    "dum_df.rename(columns = {\"Data_x\":\"country\", \"Data_y\":\"date\", \"Data\":\"Record\"}, inplace=True)"
   ]
  },
  {
   "cell_type": "code",
   "execution_count": 39,
   "metadata": {},
   "outputs": [
    {
     "data": {
      "text/html": [
       "<div>\n",
       "<style scoped>\n",
       "    .dataframe tbody tr th:only-of-type {\n",
       "        vertical-align: middle;\n",
       "    }\n",
       "\n",
       "    .dataframe tbody tr th {\n",
       "        vertical-align: top;\n",
       "    }\n",
       "\n",
       "    .dataframe thead th {\n",
       "        text-align: right;\n",
       "    }\n",
       "</style>\n",
       "<table border=\"1\" class=\"dataframe\">\n",
       "  <thead>\n",
       "    <tr style=\"text-align: right;\">\n",
       "      <th></th>\n",
       "      <th>Record_ID</th>\n",
       "      <th>Data</th>\n",
       "    </tr>\n",
       "  </thead>\n",
       "  <tbody>\n",
       "    <tr>\n",
       "      <th>13530</th>\n",
       "      <td>1</td>\n",
       "      <td>USA</td>\n",
       "    </tr>\n",
       "    <tr>\n",
       "      <th>13531</th>\n",
       "      <td>2</td>\n",
       "      <td>USA</td>\n",
       "    </tr>\n",
       "    <tr>\n",
       "      <th>13532</th>\n",
       "      <td>3</td>\n",
       "      <td>USA</td>\n",
       "    </tr>\n",
       "    <tr>\n",
       "      <th>13533</th>\n",
       "      <td>4</td>\n",
       "      <td>USA</td>\n",
       "    </tr>\n",
       "    <tr>\n",
       "      <th>13534</th>\n",
       "      <td>5</td>\n",
       "      <td>USA</td>\n",
       "    </tr>\n",
       "  </tbody>\n",
       "</table>\n",
       "</div>"
      ],
      "text/plain": [
       "       Record_ID Data\n",
       "13530  1          USA\n",
       "13531  2          USA\n",
       "13532  3          USA\n",
       "13533  4          USA\n",
       "13534  5          USA"
      ]
     },
     "execution_count": 39,
     "metadata": {},
     "output_type": "execute_result"
    }
   ],
   "source": [
    "dum_country.head()"
   ]
  },
  {
   "cell_type": "code",
   "execution_count": 40,
   "metadata": {},
   "outputs": [
    {
     "data": {
      "text/html": [
       "<div>\n",
       "<style scoped>\n",
       "    .dataframe tbody tr th:only-of-type {\n",
       "        vertical-align: middle;\n",
       "    }\n",
       "\n",
       "    .dataframe tbody tr th {\n",
       "        vertical-align: top;\n",
       "    }\n",
       "\n",
       "    .dataframe thead th {\n",
       "        text-align: right;\n",
       "    }\n",
       "</style>\n",
       "<table border=\"1\" class=\"dataframe\">\n",
       "  <thead>\n",
       "    <tr style=\"text-align: right;\">\n",
       "      <th></th>\n",
       "      <th>Record_ID</th>\n",
       "      <th>Data</th>\n",
       "    </tr>\n",
       "  </thead>\n",
       "  <tbody>\n",
       "    <tr>\n",
       "      <th>28639</th>\n",
       "      <td>1</td>\n",
       "      <td>2019/03/07 16:52:00</td>\n",
       "    </tr>\n",
       "    <tr>\n",
       "      <th>28640</th>\n",
       "      <td>2</td>\n",
       "      <td>2019/03/07 17:44:00</td>\n",
       "    </tr>\n",
       "    <tr>\n",
       "      <th>28641</th>\n",
       "      <td>3</td>\n",
       "      <td>2019/03/07 19:11:00</td>\n",
       "    </tr>\n",
       "    <tr>\n",
       "      <th>28642</th>\n",
       "      <td>4</td>\n",
       "      <td>2019/03/08 08:12:00</td>\n",
       "    </tr>\n",
       "    <tr>\n",
       "      <th>28643</th>\n",
       "      <td>5</td>\n",
       "      <td>2019/03/08 09:35:00</td>\n",
       "    </tr>\n",
       "  </tbody>\n",
       "</table>\n",
       "</div>"
      ],
      "text/plain": [
       "       Record_ID                 Data\n",
       "28639  1          2019/03/07 16:52:00\n",
       "28640  2          2019/03/07 17:44:00\n",
       "28641  3          2019/03/07 19:11:00\n",
       "28642  4          2019/03/08 08:12:00\n",
       "28643  5          2019/03/08 09:35:00"
      ]
     },
     "execution_count": 40,
     "metadata": {},
     "output_type": "execute_result"
    }
   ],
   "source": [
    "dum_date.head()"
   ]
  },
  {
   "cell_type": "code",
   "execution_count": 41,
   "metadata": {},
   "outputs": [
    {
     "data": {
      "text/html": [
       "<div>\n",
       "<style scoped>\n",
       "    .dataframe tbody tr th:only-of-type {\n",
       "        vertical-align: middle;\n",
       "    }\n",
       "\n",
       "    .dataframe tbody tr th {\n",
       "        vertical-align: top;\n",
       "    }\n",
       "\n",
       "    .dataframe thead th {\n",
       "        text-align: right;\n",
       "    }\n",
       "</style>\n",
       "<table border=\"1\" class=\"dataframe\">\n",
       "  <thead>\n",
       "    <tr style=\"text-align: right;\">\n",
       "      <th></th>\n",
       "      <th>Record_ID</th>\n",
       "      <th>Data</th>\n",
       "    </tr>\n",
       "  </thead>\n",
       "  <tbody>\n",
       "    <tr>\n",
       "      <th>0</th>\n",
       "      <td>1</td>\n",
       "      <td>8</td>\n",
       "    </tr>\n",
       "    <tr>\n",
       "      <th>1</th>\n",
       "      <td>2</td>\n",
       "      <td>13</td>\n",
       "    </tr>\n",
       "    <tr>\n",
       "      <th>2</th>\n",
       "      <td>3</td>\n",
       "      <td>15</td>\n",
       "    </tr>\n",
       "    <tr>\n",
       "      <th>3</th>\n",
       "      <td>4</td>\n",
       "      <td>20</td>\n",
       "    </tr>\n",
       "    <tr>\n",
       "      <th>4</th>\n",
       "      <td>5</td>\n",
       "      <td>28</td>\n",
       "    </tr>\n",
       "  </tbody>\n",
       "</table>\n",
       "</div>"
      ],
      "text/plain": [
       "   Record_ID Data\n",
       "0  1          8  \n",
       "1  2          13 \n",
       "2  3          15 \n",
       "3  4          20 \n",
       "4  5          28 "
      ]
     },
     "execution_count": 41,
     "metadata": {},
     "output_type": "execute_result"
    }
   ],
   "source": [
    "dum_record.head()"
   ]
  },
  {
   "cell_type": "code",
   "execution_count": 42,
   "metadata": {},
   "outputs": [
    {
     "data": {
      "text/html": [
       "<div>\n",
       "<style scoped>\n",
       "    .dataframe tbody tr th:only-of-type {\n",
       "        vertical-align: middle;\n",
       "    }\n",
       "\n",
       "    .dataframe tbody tr th {\n",
       "        vertical-align: top;\n",
       "    }\n",
       "\n",
       "    .dataframe thead th {\n",
       "        text-align: right;\n",
       "    }\n",
       "</style>\n",
       "<table border=\"1\" class=\"dataframe\">\n",
       "  <thead>\n",
       "    <tr style=\"text-align: right;\">\n",
       "      <th></th>\n",
       "      <th>Record_ID</th>\n",
       "      <th>country</th>\n",
       "      <th>date</th>\n",
       "      <th>Record</th>\n",
       "    </tr>\n",
       "  </thead>\n",
       "  <tbody>\n",
       "    <tr>\n",
       "      <th>0</th>\n",
       "      <td>1</td>\n",
       "      <td>USA</td>\n",
       "      <td>2019/03/07 16:52:00</td>\n",
       "      <td>8</td>\n",
       "    </tr>\n",
       "    <tr>\n",
       "      <th>1</th>\n",
       "      <td>2</td>\n",
       "      <td>USA</td>\n",
       "      <td>2019/03/07 17:44:00</td>\n",
       "      <td>13</td>\n",
       "    </tr>\n",
       "    <tr>\n",
       "      <th>2</th>\n",
       "      <td>3</td>\n",
       "      <td>USA</td>\n",
       "      <td>2019/03/07 19:11:00</td>\n",
       "      <td>15</td>\n",
       "    </tr>\n",
       "    <tr>\n",
       "      <th>3</th>\n",
       "      <td>4</td>\n",
       "      <td>USA</td>\n",
       "      <td>2019/03/08 08:12:00</td>\n",
       "      <td>20</td>\n",
       "    </tr>\n",
       "    <tr>\n",
       "      <th>4</th>\n",
       "      <td>5</td>\n",
       "      <td>USA</td>\n",
       "      <td>2019/03/08 09:35:00</td>\n",
       "      <td>28</td>\n",
       "    </tr>\n",
       "  </tbody>\n",
       "</table>\n",
       "</div>"
      ],
      "text/plain": [
       "   Record_ID country                 date Record\n",
       "0  1          USA     2019/03/07 16:52:00  8    \n",
       "1  2          USA     2019/03/07 17:44:00  13   \n",
       "2  3          USA     2019/03/07 19:11:00  15   \n",
       "3  4          USA     2019/03/08 08:12:00  20   \n",
       "4  5          USA     2019/03/08 09:35:00  28   "
      ]
     },
     "execution_count": 42,
     "metadata": {},
     "output_type": "execute_result"
    }
   ],
   "source": [
    "dum_df.head()"
   ]
  },
  {
   "cell_type": "code",
   "execution_count": 43,
   "metadata": {},
   "outputs": [],
   "source": [
    "# merge it into the main data frame on the bases of Record_ID\n",
    "df_stack_df = df_stack_df.merge(dum_df, on='Record_ID', validate=\"m:1\")"
   ]
  },
  {
   "cell_type": "code",
   "execution_count": 44,
   "metadata": {},
   "outputs": [],
   "source": [
    "# Rename the columns name\n",
    "df_stack_df.rename(columns = {\"Record_ID\": \"user_id\", \"Variable\": \"question_category\", \"Data\": \"Answer\", \"column_labels\": \"Question\"}, inplace=True)"
   ]
  },
  {
   "cell_type": "code",
   "execution_count": 45,
   "metadata": {},
   "outputs": [],
   "source": [
    "df_stack_df[\"Record\"] = df_stack_df[\"Record\"].astype(str)\n",
    "df_stack_df[\"Record\"] = \"user_\" + df_stack_df[\"Record\"]"
   ]
  },
  {
   "cell_type": "code",
   "execution_count": 46,
   "metadata": {},
   "outputs": [],
   "source": [
    "# Change the sequence of columns as per the requirements\n",
    "cols = [\"study_id\", \"study_name\", \"country\", \"audience\", \"placement_id\", \"date\", \"user_id\", \"Record\", \"question_number\", \"question_category\", \"goal\", \"Question\", \"question_type\", \"Answer\", \"Desired_Answer\", \"user_wieght\"]"
   ]
  },
  {
   "cell_type": "code",
   "execution_count": 47,
   "metadata": {},
   "outputs": [],
   "source": [
    "# remove '.0' from the last of record id\n",
    "df_stack_df.loc[(df_stack_df['question_category'] == \"record\"), \"Answer\"] = df_stack_df.loc[(df_stack_df['question_category'] == \"record\"), \"Answer\"].str.replace(r'\\.0', '')"
   ]
  },
  {
   "cell_type": "code",
   "execution_count": 48,
   "metadata": {},
   "outputs": [],
   "source": [
    "# Add question numbers\n",
    "df_stack_df[\"question_number\"] = df_stack_df.groupby([\"user_id\"]).cumcount() + 1"
   ]
  },
  {
   "cell_type": "code",
   "execution_count": 49,
   "metadata": {},
   "outputs": [],
   "source": [
    "# Save the output in required format\n",
    "df_stack_df.to_excel(r\"C:\\Users\\Ashish.Tyagi\\Desktop\\Projects\\Essence\\423821_ford\\stack1_new.xlsx\", index=False, columns=cols)\n",
    "# pyreadstat.write_sav(df_stack_df, \"C:\\Users\\Ashish.Tyagi\\Desktop\\Projects\\Essence\\423821_ford\\stack1.sav\", file_label=\"test\", column_labels=[\"Record_ID\", \"Variable\", \"Data\", \"Question\"])\n",
    "df_stack_df.to_csv(r\"C:\\Users\\Ashish.Tyagi\\Desktop\\Projects\\Essence\\423821_ford\\stack1_new.txt\", sep=\"\\t\", index=False, columns=cols)"
   ]
  },
  {
   "cell_type": "code",
   "execution_count": null,
   "metadata": {},
   "outputs": [],
   "source": [
    "\n"
   ]
  },
  {
   "cell_type": "code",
   "execution_count": 50,
   "metadata": {},
   "outputs": [],
   "source": [
    "# df_stack_df.sort_index(inplace=True, axis=0)\n",
    "# df_stack_df.sort_values(by=[\"Record_ID\"], inplace=True,axis=0,ascending=True)\n",
    "# df_stack_df"
   ]
  },
  {
   "cell_type": "code",
   "execution_count": null,
   "metadata": {},
   "outputs": [],
   "source": []
  }
 ],
 "metadata": {
  "kernelspec": {
   "display_name": "Python 3",
   "language": "python",
   "name": "python3"
  },
  "language_info": {
   "codemirror_mode": {
    "name": "ipython",
    "version": 3
   },
   "file_extension": ".py",
   "mimetype": "text/x-python",
   "name": "python",
   "nbconvert_exporter": "python",
   "pygments_lexer": "ipython3",
   "version": "3.7.3"
  }
 },
 "nbformat": 4,
 "nbformat_minor": 2
}
